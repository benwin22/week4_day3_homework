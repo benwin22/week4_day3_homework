{
 "cells": [
  {
   "cell_type": "markdown",
   "metadata": {},
   "source": [
    "# Time/Space Complexity - Intro to Data Structures (User Defined)\n",
    "\n",
    "### Topics to discuss today:\n",
    "\n",
    "<ul>\n",
    "    <li>Time and Space Complexity - What is it/How do we measure it</li>\n",
    "    <li>Asymptotic Analysis</li>\n",
    "    <li><strong>Data Structures</strong></li>\n",
    "</ul>\n",
    "\n",
    "### Data Structures to discuss:\n",
    "- Arrays\n",
    "- Stacks\n",
    "- Queues\n",
    "- Linked Lists\n",
    "    - Singly Linked Lists\n",
    "    - Traversing A Linked List\n",
    "    - Finding a node in a linked list\n",
    "    - Adding to a linked list\n"
   ]
  },
  {
   "cell_type": "markdown",
   "metadata": {},
   "source": [
    "## Time and Space Complexity\n",
    "\n",
    "#### What is it?\n",
    "\n",
    "Time and space complexity is the measure of how much time a given action(function) will take to solve a problem. In the same fashion, we determine how much a given data structure will need in terms of memory allocation. A problem can have multiple solutions and finding the optimal solution for the problem needs to be analyzed in time and space.\n",
    "\n",
    "#### How do we measure Time and Space Complexity?\n",
    "\n",
    "In order to measure time and space complexity we use Asymptotic analysis. The reason for this is because we need a way to measure different algorithms (functions) based on the size of their inputs in a mathmatical way. For example, we could have a function that is computed as f(n) and another that is g(n^2). All things around the function staying constant, the only thing that changes is the size of the input. Below is the chart that shows the different Asymptotic analysis formats. "
   ]
  },
  {
   "cell_type": "markdown",
   "metadata": {},
   "source": [
    "<table style=\"text-align:center;\" class=\"table table-bordered\">\n",
    "<tbody><tr>\n",
    "<td>constant</td>\n",
    "<td>−</td>\n",
    "<td>Ο(1)</td>\n",
    "</tr>\n",
    "<tr>\n",
    "<td>logarithmic</td>\n",
    "<td>−</td>\n",
    "<td>Ο(log n)</td>\n",
    "</tr>\n",
    "<tr>\n",
    "<td>linear</td>\n",
    "<td>−</td>\n",
    "<td>Ο(n)</td>\n",
    "</tr>\n",
    "<tr>\n",
    "<td>Linear Logarithmic</td>\n",
    "<td>−</td>\n",
    "<td>Ο(n log n)</td>\n",
    "</tr>\n",
    "<tr>\n",
    "<td>quadratic</td>\n",
    "<td>−</td>\n",
    "<td>Ο(n<sup>2</sup>)</td>\n",
    "</tr>\n",
    "<tr>\n",
    "<td>cubic</td>\n",
    "<td>−</td>\n",
    "<td>Ο(n<sup>3</sup>)</td>\n",
    "</tr>\n",
    "<tr>\n",
    "<td>polynomial</td>\n",
    "<td>−</td>\n",
    "<td>n<sup>Ο(1)</sup></td>\n",
    "</tr>\n",
    "<tr>\n",
    "<td>exponential</td>\n",
    "<td>−</td>\n",
    "<td>2<sup>Ο(n)</sup></td>\n",
    "</tr>\n",
    "</tbody></table>"
   ]
  },
  {
   "cell_type": "code",
   "execution_count": null,
   "metadata": {},
   "outputs": [],
   "source": [
    "#Constant time O(1)\n",
    "def add_nums(num1, num2):\n",
    "    return num1 + num2\n",
    "\n",
    "# Logarithmic Time O(log n)\n",
    "# breaking a list down into halves or smaller parts so that e\n",
    "# never have to iterate through the entirety of the list\n",
    "\n",
    "\n",
    "def binary_search(array, target, left, right):\n",
    "    left = 0\n",
    "    right = len(array) - 1\n",
    "    while left <= right:\n",
    "        middle = (left + right) // 2\n",
    "        potential_match = array[middle]\n",
    "        if target == potential_match:\n",
    "            return f\"The index is....{middle}\"\n",
    "        elif target < potential_match:\n",
    "            right = middle - 1\n",
    "        else:\n",
    "            left = middle + 1\n",
    "    return -1\n",
    "\n",
    "# Linear Time O(n)\n",
    "# it moves in a line through an iterable and hits each item in that iterable\n",
    "arr = [1,2,3,4,5]\n",
    "arr = [5,4,3,2,1]\n",
    "def print_num(arr):\n",
    "    for num in arr:\n",
    "        if num == 1:\n",
    "            return num\n",
    "\n",
    "# Linear Logarithmic O\n",
    "# Merge Sort\n",
    "# .sort() -- alters the original list\n",
    "# sorted() -- creates a new sorted list -- can sort any sortable anything\n",
    "\n",
    "# Quadratic O(n^2)\n",
    "# any nested linear operation like a (doulbe for loops)\n",
    "arr = [1,2,3,4,5]\n",
    "arr = [6,7,8,9,10]\n",
    "def print_nums2(arr1, arr2):\n",
    "    for num in arr1:\n",
    "        print(num)\n",
    "        for num2 in arr2:\n",
    "            print(num2)\n",
    "        \n",
    "# Cubic O(n^3)\n",
    "#  any triply nested linear operation\n",
    "my_arr1 = [1,2,3,4,5]\n",
    "my_arr2 = [6,7,8,9,10]\n",
    "my_arr3 = [11,12,13,14,15]\n",
    "def print_nums3(arr1, arr2, arr3):\n",
    "    for num1 in arr1:\n",
    "        print(num)\n",
    "        for num2 in arr2:\n",
    "            print(num2)\n",
    "            for num3 in arr3:\n",
    "                print(num3)\n",
    "                print(num1 + num2 + num3)"
   ]
  },
  {
   "cell_type": "markdown",
   "metadata": {},
   "source": [
    "## Arrays"
   ]
  },
  {
   "cell_type": "markdown",
   "metadata": {},
   "source": [
    "In python we benefit from the dynamic array which means the block of memory will expand as needed for the given input to the array. In traditional arrays (depending on the type of operating system) we will usually store our inputs in 4 or 8 consecutive blocks of memory. Below is a diagram of how that looks under the hood:\n",
    "\n",
    "## Which in python looks like this:\n",
    "\n",
    "\n",
    "<br><img src=\"http://www.cs.emory.edu/~cheung/Courses/170/Syllabus/09/FIGS/array02x.gif\" style=\"height:300px; width:450px;\"><br>"
   ]
  },
  {
   "cell_type": "markdown",
   "metadata": {},
   "source": [
    "### Let's take a look at some of the time and space analysis of arrays"
   ]
  },
  {
   "cell_type": "code",
   "execution_count": null,
   "metadata": {},
   "outputs": [],
   "source": [
    "The easiest way to figure out your time complexity is asking\n",
    "“Am I traversing the iterable aka list to do something?” \n",
    "If I am its linear\n",
    "\n",
    "Think of it like the start of the list is the start of the tight rope, \n",
    "the end of the list is the end. To get to the end I have to walk the \n",
    "straightest LINE ive ever walked in order not to fall lol"
   ]
  },
  {
   "cell_type": "code",
   "execution_count": null,
   "metadata": {},
   "outputs": [],
   "source": [
    "my_list = [2,3]\n",
    "my_list2 = [4,6,8,10]\n",
    "my_list3 = [4,56,3,7,2,5746,145]\n",
    "def square_nums(arr_nums):\n",
    "    squared_list = []\n",
    "    for num in arr_nums:\n",
    "        squared_list.append(num**2)\n",
    "        \n",
    "        # Indexing an Array (list)\n",
    "# Constant Time and Space\n",
    "# arr[i]\n",
    "my_list = [1,2,3,4,5]\n",
    "my_num = my_list[3]\n",
    "\n",
    "#Searching through an array\n",
    "#Linear Time O(n) and constant space O(1)\n",
    "if 1 in my_list:\n",
    "    print(\"its here\")\n",
    "\n",
    "for num in my_list:\n",
    "    if num == 1:\n",
    "        print(\"it's here\")\n",
    "\n",
    "    \n",
    "# Copying an array\n",
    "# Linear Time O(n) Linear Space O(n)\n",
    "my_list_copy = my_list[:]\n",
    "print(my_list_copy)\n",
    "empty_list = []\n",
    "for num in my_list:\n",
    "    empty_list.append(num)\n",
    "\n",
    "\n",
    "#Setting an index\n",
    "# Constant Time O(1) and Constant Space O(1)\n",
    "my_list[3] = 7 #not the same as inserting, we are assigning\n",
    "print(my_list)"
   ]
  },
  {
   "cell_type": "code",
   "execution_count": null,
   "metadata": {},
   "outputs": [],
   "source": []
  },
  {
   "cell_type": "markdown",
   "metadata": {},
   "source": [
    "## Stacks and Queues\n",
    "\n",
    "** Stacks ** as the name suggests is a data structure that allows for data to follow the Last In First Out priciple(LIFO). Think of a stack of pancakes for example. To get the first pancake you would  start with the top and go down.\n",
    "\n",
    "##### Searching through a stack will be Linear Time O(n) - Constant Space O(1)\n",
    "##### Selecting the last item will be done in Constant Time O(1) - Constant Space O(1)\n",
    "##### Adding to the stack should take Constant Time O(1) - Constant Space O(1)\n",
    "\n",
    "** Queues ** are similar but in this case follow the First In First Out principle(FIFO). Think of this as a line in a black friday sale. The first person camped out for the big screen tv is the first to get it.\n",
    "\n",
    "##### Searching through a queue will be Linear Time O(n) - Constant Space O(1)\n",
    "##### Selecting the first item will be done in Constant Time O(1) - Constant Space O(1)\n",
    "##### Adding to the queue should take Constant Time O(1) - Constant Space O(1)"
   ]
  },
  {
   "cell_type": "code",
   "execution_count": null,
   "metadata": {
    "scrolled": true
   },
   "outputs": [],
   "source": [
    "# Phat STACKS\n",
    "\n",
    "stack = ['pancakes1']\n",
    "print(stack)\n",
    "stack.append('pancake2') #constant time\n",
    "print(stack)\n",
    "stack.append('pancake3')\n",
    "print(stack)\n",
    "stack.append('pancake4')\n",
    "print(stack)\n",
    "pancake4 = stack.pop()\n",
    "print(pancake4)\n",
    "print(stack)\n",
    "print(stack.pop())\n",
    "print(stack)\n",
    "print(stack.pop())\n",
    "print(stack)"
   ]
  },
  {
   "cell_type": "code",
   "execution_count": null,
   "metadata": {},
   "outputs": [],
   "source": [
    "from collections import deque\n",
    "queue = ['shopper1']\n",
    "queue.append(\"shopper2\")\n",
    "print(queue)\n",
    "queue.append(\"shopper3\")\n",
    "print(queue.pop(0))\n",
    "print(queue)"
   ]
  },
  {
   "cell_type": "code",
   "execution_count": 3,
   "metadata": {},
   "outputs": [
    {
     "name": "stdout",
     "output_type": "stream",
     "text": [
      "<function parts_sums at 0x105a78ea0>\n"
     ]
    }
   ],
   "source": [
    "ls = [0, 1, 3, 6, 10]\n",
    "\n",
    "def parts_sums(ls):\n",
    "    parts_sum = []\n",
    "    for i in ls:\n",
    "        parts_sums\n",
    "        new_list.append(ls+1)\n",
    "print(parts_sums)\n",
    "    "
   ]
  },
  {
   "cell_type": "code",
   "execution_count": 14,
   "metadata": {},
   "outputs": [],
   "source": [
    "from collections import deque\n",
    "\n",
    "def parts_sums(ls):\n",
    "    sum = 0\n",
    "    \n",
    "    queue = deque()\n",
    "    \n",
    "    queue.appendleft(sum)\n",
    "    \n",
    "    i = len(ls)-1\n",
    "    \n",
    "    while i >= 0:\n",
    "        sum += ls[i]\n",
    "        queue.appendleft(sum)\n",
    "        i -= 1\n",
    "        \n",
    "    return list(queue)\n"
   ]
  },
  {
   "cell_type": "code",
   "execution_count": 17,
   "metadata": {},
   "outputs": [],
   "source": [
    "from collections import deque\n",
    "ls = [744125, 935, 407, 454, 430, 90, 144, 6710213, 889, 810, 2579358]\n",
    "ls2 = [0, 1, 3, 6, 10]\n",
    "\n",
    "\n",
    "def parts_sums(ls):\n",
    "    result = deque([0])\n",
    "    current_sum = 0\n",
    "\n",
    "    for num in reversed(ls):\n",
    "        print(num)\n",
    "        current_sum += num\n",
    "        result.appendleft(current_sum)\n",
    "\n",
    "    return list(result)\n",
    "parts_sum(ls2)b"
   ]
  },
  {
   "cell_type": "code",
   "execution_count": 18,
   "metadata": {},
   "outputs": [],
   "source": [
    "def parts_sums(ls):\n",
    "    emptylist = []\n",
    "    sums = sum(ls)\n",
    "    while len(ls) > 0:   \n",
    "        emptylist.append(sums)\n",
    "        sums -= ls.pop(0)\n",
    "    emptylist.append(0)\n",
    "    return emptylist"
   ]
  },
  {
   "cell_type": "code",
   "execution_count": null,
   "metadata": {},
   "outputs": [],
   "source": [
    "from collections import deque\n",
    "#first shopper in first shopper out FIFO\n",
    "queue = deque()\n",
    "dir(queue)\n",
    "queue.appendleft(\"shopper1\")\n",
    "print(queue)\n",
    "queue.appendleft(\"shopper2\")\n",
    "print(queue)\n",
    "queue.appendleft(\"shopper3\")\n",
    "print(queue)\n",
    "print(queue.pop())\n",
    "print(queue)"
   ]
  },
  {
   "cell_type": "markdown",
   "metadata": {},
   "source": [
    "# Sum of Parts Time Compelxity Exercise"
   ]
  },
  {
   "cell_type": "code",
   "execution_count": null,
   "metadata": {},
   "outputs": [],
   "source": [
    "#sum of parts\n",
    "https://www.codewars.com/kata/5ce399e0047a45001c853c2b"
   ]
  },
  {
   "cell_type": "markdown",
   "metadata": {},
   "source": [
    "## Linked List (Data Structure)\n",
    "\n",
    "A linked list is created by using the node class. We create a Node object and create another class to use this node object. We pass the appropriate values thorugh the node object to point the to the next data elements.\n",
    "\n",
    "There are some advantages and disadvantages with this data structure. **Advantages** Linked Lists can save memory because they can be flexibile with memory management which saves memory. **Disadvantages** Finding or adding to the list requires traversing the entire list."
   ]
  },
  {
   "cell_type": "code",
   "execution_count": 19,
   "metadata": {},
   "outputs": [],
   "source": [
    "# Made of Two Classes \n",
    "# Node class\n",
    "# Link_List Class\n",
    "\n",
    "# Linked_List class\n",
    "# --traversal\n",
    "# --insertion\n",
    "# --delete\n",
    "\n",
    "# Node Class\n",
    "# --value -- the actual value of the node\n",
    "# --next -- points to the next node's value\n",
    "\n",
    "class Node():\n",
    "    def __init__(self, value):\n",
    "        self.value = value\n",
    "        self.next = None\n",
    "        \n",
    "#LinkedList Class\n",
    "\n",
    "class LinkedList():\n",
    "    def __init__(self):\n",
    "        self.head = None #beginning of the linked list\n",
    "        \n",
    "#    set the head of our linked list\n",
    "    def pushOn(self, new_value):\n",
    "        new_node = Node(new_value) #instantiates the Node Class\n",
    "        new_node.next = self.head\n",
    "        self.head = new_node #the head of the linked list now becomes the node object we just instantiated\n",
    "   \n",
    "    #delete a node from the linked list   \n",
    "    def deleteNode(self, value):\n",
    "        current_node = self.head\n",
    "        next_node = current_node.next\n",
    "        \n",
    "#         traversing our linked list until it finds the value or it reaches the end\n",
    "        while current_node.value != value and next_node.next:\n",
    "            prev_node = current_node\n",
    "            current_node = next_node\n",
    "            next_node = current_node.next\n",
    "            \n",
    "#         we reached the end of the list and have not found our value\n",
    "        if not next_node.next:\n",
    "            return \"Value does not exist\"\n",
    "        \n",
    "        \n",
    "        prev_node.next = next_node\n",
    "        del current_node\n",
    "        \n",
    "#     inserting a node into the linked list\n",
    "    def insertNode(self, position, value):\n",
    "        new_node = Node(value) #creates an instance of the node class\n",
    "        \n",
    "#         setting us up at the beginning of the list\n",
    "        current_node = self.head\n",
    "        next_node = current_node.next\n",
    "        \n",
    "        for i in range(position - 1):\n",
    "            current_node = next_node\n",
    "            next_node = current_node.next\n",
    "        \n",
    "        next_node.next = current_node.next\n",
    "        current_node.next = new_node\n",
    "        \n",
    "    def appendNode(self, new_value):\n",
    "        new_node = Node(new_value) #instantiating our node class\n",
    "        \n",
    "        if self.head is None:\n",
    "            self.head = new_node\n",
    "            \n",
    "#         beginning of the list\n",
    "        current_node = self.head\n",
    "        \n",
    "#         traverse until we find the end\n",
    "#         end will be whenever the node's next is None\n",
    "        while current_node.next:\n",
    "            current_node = current_node.next\n",
    "            \n",
    "#         add to the back of the list\n",
    "        current_node.next = new_node\n",
    "    \n",
    "    def traverse(self):\n",
    "        current_node = self.head\n",
    "        \n",
    "#         while we still have nodes/values in the list we will print and then move on to the next one\n",
    "        while current_node:\n",
    "            print(current_node.value)\n",
    "            current_node = current_node.next\n",
    "            \n",
    "        print(\"end of list\")\n",
    "        "
   ]
  },
  {
   "cell_type": "code",
   "execution_count": 23,
   "metadata": {},
   "outputs": [
    {
     "name": "stdout",
     "output_type": "stream",
     "text": [
      "Monday\n",
      "end of list\n",
      "Monday\n",
      "Tuesday\n",
      "end of list\n",
      "Monday\n",
      "Tuesday\n",
      "Thursday\n",
      "end of list\n"
     ]
    },
    {
     "data": {
      "text/plain": [
       "'Value does not exist'"
      ]
     },
     "execution_count": 23,
     "metadata": {},
     "output_type": "execute_result"
    }
   ],
   "source": [
    "weekdays_list = LinkedList()\n",
    "\n",
    "weekdays_list.pushOn(\"Monday\")\n",
    "weekdays_list.traverse()\n",
    "weekdays_list.appendNode(\"Tuesday\")\n",
    "weekdays_list.traverse()\n",
    "weekdays_list.appendNode(\"Thursday\")\n",
    "weekdays_list.traverse()\n",
    "weekdays_list.insertNode(2, \"Wednesday\")\n",
    "weekdays_list.deleteNode(\"Wednesday\")\n",
    "\n"
   ]
  },
  {
   "cell_type": "code",
   "execution_count": null,
   "metadata": {},
   "outputs": [],
   "source": []
  }
 ],
 "metadata": {
  "kernelspec": {
   "display_name": "Python 3 (ipykernel)",
   "language": "python",
   "name": "python3"
  },
  "language_info": {
   "codemirror_mode": {
    "name": "ipython",
    "version": 3
   },
   "file_extension": ".py",
   "mimetype": "text/x-python",
   "name": "python",
   "nbconvert_exporter": "python",
   "pygments_lexer": "ipython3",
   "version": "3.11.4"
  }
 },
 "nbformat": 4,
 "nbformat_minor": 2
}
