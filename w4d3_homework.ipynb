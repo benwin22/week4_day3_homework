{
 "cells": [
  {
   "cell_type": "code",
   "execution_count": null,
   "id": "54620f04",
   "metadata": {},
   "outputs": [],
   "source": [
    "# MULTIPLY\n",
    "\n",
    "def multiply(a, b):\n",
    "    return a * b\n",
    "\n",
    "# O(1) time is simple math w/ no loops. space does not use any additional data structures, input is consant"
   ]
  },
  {
   "cell_type": "code",
   "execution_count": null,
   "id": "f9bac14b",
   "metadata": {},
   "outputs": [],
   "source": [
    "# THIRD AGNLE OF A TRIANGLE\n",
    "\n",
    "\n",
    "def other_angle(a, b):\n",
    "    return 180 -a -b\n",
    "\n",
    "# O(1) time is simple math w/ no loops. space does not use any additional data structures, input is consant\n",
    "\n",
    "def other_angle(a, b):\n",
    "    return 180 - (a + b)\n",
    "\n",
    "# this is also O(1) bc of no loops or inputs."
   ]
  },
  {
   "cell_type": "code",
   "execution_count": null,
   "id": "8e8e97bf",
   "metadata": {},
   "outputs": [],
   "source": [
    "# ROMAN NUMERALS DECODER\n",
    "\n",
    "def solution(roman):\n",
    "    myString = roman[::-1]\n",
    "    p1 = ''\n",
    "    p2 = ''\n",
    "    ans = 0\n",
    "    flag = False\n",
    "    key = {\n",
    "        \"M\": 1000,\n",
    "        \"D\": 500,\n",
    "        \"C\": 100,\n",
    "        \"L\": 50,\n",
    "        \"X\": 10,\n",
    "        \"V\": 5,\n",
    "        \"I\": 1\n",
    "    }\n",
    "    for i in range(len(myString) - 1):\n",
    "        p1 = myString[i]\n",
    "        p2 = myString[i+1]\n",
    "        if flag:\n",
    "            ans -= key[p1]\n",
    "            flag = False\n",
    "        else:\n",
    "            if key[p1] <= key[p2]:\n",
    "                ans += key[p1]\n",
    "            else:\n",
    "                ans += key[p1]\n",
    "                flag = True\n",
    "    if flag:\n",
    "        ans -= key[myString[-1]]\n",
    "    else:\n",
    "        ans += key[myString[-1]]\n",
    "\n",
    "    return ans\n",
    "\n",
    "# time complexity is O(n) bc it is constant time and loops through each character once\n",
    "# space complexity is O(1) each variable uses constant space and the input size doesn't increase"
   ]
  }
 ],
 "metadata": {
  "kernelspec": {
   "display_name": "Python 3 (ipykernel)",
   "language": "python",
   "name": "python3"
  },
  "language_info": {
   "codemirror_mode": {
    "name": "ipython",
    "version": 3
   },
   "file_extension": ".py",
   "mimetype": "text/x-python",
   "name": "python",
   "nbconvert_exporter": "python",
   "pygments_lexer": "ipython3",
   "version": "3.11.4"
  }
 },
 "nbformat": 4,
 "nbformat_minor": 5
}
