{
 "cells": [
  {
   "cell_type": "code",
   "execution_count": null,
   "id": "2abd11ed",
   "metadata": {},
   "outputs": [],
   "source": [
    "weekdays_list = LinkedList()\n",
    "weekdays_list.pushOn(\"Monday\")\n",
    "\n",
    "weekdays_list.append_(\"Wednesday\")\n",
    "weekdays_list.insertKnownPosition(1, \"Tuesday\")\n",
    "weekdays_list.append_(\"Friday\")\n",
    "weekdays_list.insertKnownPosition(3, \"Thursday\")\n",
    "# weekdays_list.insertAfter(weekdays_list.head.next.next, \"Thursday\")\n",
    "weekdays_list.pushOn(\"Sunday\")\n",
    "weekdays_list.append_(\"Saturday\")"
   ]
  },
  {
   "cell_type": "code",
   "execution_count": 5,
   "id": "33d1ef17",
   "metadata": {},
   "outputs": [
    {
     "name": "stdout",
     "output_type": "stream",
     "text": [
      "added node\n",
      "in the traverse\n",
      "['New Orleans', 'Chicago']\n",
      "['Chicago', 'London']\n",
      "['London', 'New York']\n",
      "['New York', 'Lima']\n",
      "['Lima', 'Sao Paulo']\n"
     ]
    },
    {
     "data": {
      "text/plain": [
       "'Sao Paulo'"
      ]
     },
     "execution_count": 5,
     "metadata": {},
     "output_type": "execute_result"
    }
   ],
   "source": [
    "from collections import deque\n",
    "\n",
    "class Node():\n",
    "\n",
    "    def __init__(self, value):\n",
    "        self.value = value\n",
    "        self.next = None \n",
    "\n",
    "\n",
    "class LinkedList():\n",
    "\n",
    "    def __init__(self):\n",
    "        self.head = None\n",
    "        self.no_homes = deque()\n",
    "\n",
    "\n",
    "    def traverse(self):\n",
    "\n",
    "        \n",
    "        print(\"in the traverse\")\n",
    "        \n",
    "        while self.no_homes:\n",
    "            route = self.no_homes.popleft()\n",
    "            self.addNode(route)\n",
    "            \n",
    "        current_node = self.head\n",
    "        while current_node.next:\n",
    "            print(current_node.value)\n",
    "            current_node = current_node.next\n",
    "\n",
    "        print(current_node.value)\n",
    "        return current_node.value\n",
    "    \n",
    "    \n",
    "    def addNode(self, value):\n",
    "\n",
    "        new_node = Node(value)\n",
    "\n",
    "        #if our list is empty, make the new_node the head\n",
    "        if not self.head:\n",
    "            self.head = new_node\n",
    "            return\n",
    "\n",
    "        #setting us up at the beginning of our linked list \n",
    "        current_node = self.head\n",
    "\n",
    "        #traversing through our linked  list until we hit either the end or hit \n",
    "        #a route in our value \n",
    "        while current_node:\n",
    "            if current_node.value[1] == value[0]:\n",
    "                print(\"added node\")\n",
    "                new_node.next = current_node.next\n",
    "                current_node.next = new_node\n",
    "                return\n",
    "            elif current_node.value[0] == value[1]:\n",
    "                if self.head == current_node:\n",
    "                    self.head = new_node \n",
    "                    self.head.next = current_node\n",
    "                    return\n",
    "                else:\n",
    "                    new_node.next = current_node.next\n",
    "                    prev_node.next = new_node \n",
    "                    return\n",
    "            else:\n",
    "                prev_node = current_node\n",
    "                current_node = current_node.next \n",
    "            \n",
    "        # if we go through the entirety of the list & can't find a match, then this route                                     -       # doesn't have a connecting city just yet. Store it somewhere to look at later.    \n",
    "        self.no_homes.append(new_node.value)\n",
    "        return\n",
    "\n",
    "\n",
    "\n",
    "def city_paths(paths):\n",
    "\n",
    "    my_list = LinkedList()\n",
    " \n",
    "    for route in paths:\n",
    "        my_list.addNode(route)\n",
    "\n",
    "    return my_list.traverse()[1]\n",
    "\n",
    "\n",
    "paths = [[\"New York\",\"Lima\"],[\"Lima\",\"Sao Paulo\"],['Chicago', 'London'],['New Orleans','Chicago'],[\"London\",\"New York\"]]\n",
    "city_paths(paths)"
   ]
  },
  {
   "cell_type": "code",
   "execution_count": null,
   "id": "ff386412",
   "metadata": {},
   "outputs": [],
   "source": []
  }
 ],
 "metadata": {
  "kernelspec": {
   "display_name": "Python 3 (ipykernel)",
   "language": "python",
   "name": "python3"
  },
  "language_info": {
   "codemirror_mode": {
    "name": "ipython",
    "version": 3
   },
   "file_extension": ".py",
   "mimetype": "text/x-python",
   "name": "python",
   "nbconvert_exporter": "python",
   "pygments_lexer": "ipython3",
   "version": "3.11.4"
  }
 },
 "nbformat": 4,
 "nbformat_minor": 5
}
